{
 "cells": [
  {
   "cell_type": "markdown",
   "metadata": {},
   "source": [
    "## Урок 3. Линейные преобразования"
   ]
  },
  {
   "cell_type": "code",
   "execution_count": 2,
   "metadata": {},
   "outputs": [],
   "source": [
    "import numpy as np\n",
    "np.set_printoptions(precision=2, suppress=True)"
   ]
  },
  {
   "cell_type": "markdown",
   "metadata": {},
   "source": [
    "__1. Найти собственные векторы и собственные значения для линейного оператора, заданного матрицей__ $A=\\begin{pmatrix}\n",
    "-1 & -6\\\\ \n",
    "2 & 6\n",
    "\\end{pmatrix}$\n",
    "\n",
    "Сначала нужно найти собственные значения линейного оператора:\n",
    "\n",
    "$\\begin{vmatrix}\n",
    "-1-\\lambda & -6\\\\ \n",
    "2 & 6-\\lambda\n",
    "\\end{vmatrix}=0$\n",
    "\n",
    "$(-1-\\lambda)(6-\\lambda)-(-6\\cdot 2)=0$\n",
    "\n",
    "$\\lambda^2-5\\lambda+6=0$\n",
    "\n",
    "$\\lambda_1=3,\\,\\,\\, \\lambda_2=2$\n",
    "\n",
    "Собственные векторы:  \n",
    "* для $\\lambda_1=3$\n",
    "\n",
    "$\\begin{pmatrix}\n",
    "-1-3 & -6\\\\ \n",
    "2 & 6-3\n",
    "\\end{pmatrix}=\\begin{pmatrix}\n",
    "-4 & -6\\\\ \n",
    "2 & 3\n",
    "\\end{pmatrix}$\n",
    "\n",
    "Первая строка линейно зависима от второй строки, значит ее можно вычеркнуть. Получается:  \n",
    "$2x_1+3x_2=0\\,\\,\\, \\Rightarrow\\,\\,\\, x_1=-1.5 x_2$\n",
    "\n",
    "Первый собственный вектор равен $(-1.5 x_2, x_2)$\n",
    "* для $\\lambda_2=2$  \n",
    "\n",
    "$\\begin{pmatrix}\n",
    "-1-2 & -6\\\\ \n",
    "2 & 6-2\n",
    "\\end{pmatrix}=\\begin{pmatrix}\n",
    "-3 & -6\\\\ \n",
    "2 & 4\n",
    "\\end{pmatrix}$\n",
    "\n",
    "Первая строка также линейно зависима от второй строки, поэтому её тоже вычеркиваем. Получается:  \n",
    "$2x_1+4x_2=0\\,\\,\\, \\Rightarrow\\,\\,\\, x_1=-2 x_2$\n",
    "\n",
    "Второй собственный вектор равен $(-2 x_2, x_2)$"
   ]
  },
  {
   "cell_type": "code",
   "execution_count": 3,
   "metadata": {},
   "outputs": [
    {
     "name": "stdout",
     "output_type": "stream",
     "text": [
      "Матрица A:\n",
      "[[-1 -6]\n",
      " [ 2  6]]\n",
      "Собственные значения:\n",
      "[2. 3.]\n",
      "Собственные векторы:\n",
      "[[-0.89  0.83]\n",
      " [ 0.45 -0.55]]\n"
     ]
    }
   ],
   "source": [
    "a = np.array([[-1, -6], [2, 6]])\n",
    "w, v = np.linalg.eig(a)\n",
    "\n",
    "print(f'Матрица A:\\n{a}')\n",
    "print(f'Собственные значения:\\n{w}')\n",
    "print(f'Собственные векторы:\\n{v}')"
   ]
  },
  {
   "cell_type": "markdown",
   "metadata": {},
   "source": [
    "__2. Дан оператор поворота на 180 градусов, задаваемый матрицей__ $A=\\begin{pmatrix}\n",
    "-1 & 0\\\\ \n",
    "0 & -1\n",
    "\\end{pmatrix}$\n",
    "\n",
    "Показать, что __любой__ вектор является для него собственным.\n",
    "\n",
    "Находим собственные значения линейного оператора:  \n",
    "\n",
    "$\\begin{vmatrix}\n",
    "-1 & 0\\\\ \n",
    "0 & -1\n",
    "\\end{vmatrix}=0$\n",
    "\n",
    "$(-1-\\lambda)^2-0=0$\n",
    "\n",
    "$\\lambda=-1$\n",
    "\n",
    "Находим собственный вектор, подставив полученное собственное значение в выражение $\\textbf{A}x=\\lambda x$: \n",
    "\n",
    "$\\begin{pmatrix}\n",
    "-1 & 0\\\\ \n",
    "0 & -1\n",
    "\\end{pmatrix}\\begin{pmatrix}\n",
    "x_{1}\\\\ \n",
    "x_{2}\n",
    "\\end{pmatrix}=\n",
    "-1\n",
    "\\begin{pmatrix}\n",
    "x_{1}\\\\ \n",
    "x_{2}\n",
    "\\end{pmatrix}$\n",
    "\n",
    "$\\begin{cases}\n",
    "-x_1=-x_1, \\\\\n",
    "-x_2=-x_2\n",
    "\\end{cases}\\,\\,\\, \\Rightarrow\\,\\,\\,\n",
    "\\begin{cases}\n",
    "x_1=x_1, \\\\\n",
    "x_2=x_2\n",
    "\\end{cases}$\n",
    "\n",
    "Проверяем при помощи поиска собственного вектора способом из первого задания:  \n",
    "\n",
    "$\\begin{pmatrix}\n",
    "-1-(-1) & 0\\\\ \n",
    "0 & -1-(-1)\n",
    "\\end{pmatrix}=\n",
    "\\begin{pmatrix}\n",
    "0 & 0\\\\ \n",
    "0 & 0\n",
    "\\end{pmatrix}$\n",
    "\n",
    "Так как $x_1$ и $x_2$ могут принимать любые значения $\\Rightarrow$ для данного оператора поворота любой вектор является собственным."
   ]
  },
  {
   "cell_type": "code",
   "execution_count": 5,
   "metadata": {},
   "outputs": [
    {
     "name": "stdout",
     "output_type": "stream",
     "text": [
      "Матрица A:\n",
      "[[-1  0]\n",
      " [ 0 -1]]\n",
      "Собственные значения:\n",
      "[-1. -1.]\n",
      "Собственные векторы:\n",
      "[[1. 0.]\n",
      " [0. 1.]]\n"
     ]
    }
   ],
   "source": [
    "a = np.array([[-1, 0], [0, -1]])\n",
    "w, v = np.linalg.eig(a)\n",
    "\n",
    "print(f'Матрица A:\\n{a}')\n",
    "print(f'Собственные значения:\\n{w}')\n",
    "print(f'Собственные векторы:\\n{v}')"
   ]
  },
  {
   "cell_type": "markdown",
   "metadata": {},
   "source": [
    "__3. Пусть линейный оператор задан матрицей__ $A=\\begin{pmatrix}\n",
    "1 & 1\\\\ \n",
    "-1 & 3\n",
    "\\end{pmatrix}$\n",
    "\n",
    "Установить, является ли вектор $x=(1,1)$ собственным вектором этого линейного оператора.\n",
    "\n",
    "$\\begin{pmatrix}\n",
    "1 & 1\\\\ \n",
    "-1 & 3\n",
    "\\end{pmatrix}\n",
    "\\begin{pmatrix}\n",
    "1 \\\\ \n",
    "1\n",
    "\\end{pmatrix}=\\lambda\n",
    "\\begin{pmatrix}\n",
    "1\\\\ \n",
    "1\n",
    "\\end{pmatrix}$\n",
    "\n",
    "$\\begin{cases}\n",
    "1+1=\\lambda \\cdot 1, \\\\\n",
    "-1+3=\\lambda \\cdot 1\n",
    "\\end{cases}\\,\\,\\, \\Rightarrow\\,\\,\\,\n",
    "\\begin{cases}\n",
    "\\lambda=2, \\\\\n",
    "\\lambda=2\n",
    "\\end{cases}$\n",
    "\n",
    "Следовательно вектор $x=(1,1)$ является собственным вектором линейного оператора, заданного матрицей $A$, и его собственное значение составляет $\\lambda=2$."
   ]
  },
  {
   "cell_type": "code",
   "execution_count": 6,
   "metadata": {},
   "outputs": [
    {
     "name": "stdout",
     "output_type": "stream",
     "text": [
      "Матрица A:\n",
      "[[ 1  1]\n",
      " [-1  3]]\n",
      "Собственные значения:\n",
      "[2. 2.]\n"
     ]
    }
   ],
   "source": [
    "a = np.array([[1, 1], [-1, 3]])\n",
    "w, v = np.linalg.eig(a)\n",
    "\n",
    "print(f'Матрица A:\\n{a}')\n",
    "print(f'Собственные значения:\\n{w}')"
   ]
  },
  {
   "cell_type": "markdown",
   "metadata": {},
   "source": [
    "__4. Пусть линейный оператор задан матрицей__ $A=\\begin{pmatrix}\n",
    "0 & 3 & 0\\\\ \n",
    "3 & 0 & 0\\\\ \n",
    "0 & 0 & 3 \n",
    "\\end{pmatrix}$\n",
    "\n",
    "Установить, является ли вектор $x=(3, -3, -4)$ собственным вектором этого линейного оператора.\n",
    "\n",
    "$\\begin{pmatrix}\n",
    "0 & 3 & 0\\\\ \n",
    "3 & 0 & 0\\\\ \n",
    "0 & 0 & 3 \n",
    "\\end{pmatrix}\n",
    "\\begin{pmatrix}\n",
    "3\\\\ \n",
    "-3\\\\ \n",
    "-4 \n",
    "\\end{pmatrix}=\\lambda\n",
    "\\begin{pmatrix}\n",
    "3\\\\ \n",
    "-3\\\\ \n",
    "-4 \n",
    "\\end{pmatrix}$\n",
    "\n",
    "$\\begin{cases}\n",
    "-9=3\\lambda, \\\\\n",
    "9=-3\\lambda, \\\\\n",
    "-12=-4\\lambda\n",
    "\\end{cases}\\,\\,\\, \\Rightarrow\\,\\,\\,\n",
    "\\begin{cases}\n",
    "\\lambda=-3, \\\\\n",
    "\\lambda=-3, \\\\\n",
    "\\lambda=3\n",
    "\\end{cases}$\n",
    "\n",
    "Следовательно такая система не имеет смысла. Следовательно вектор $x=(3, -3, -4)$ не является собственным вектором линейного оператора, заданного матрицей $A$."
   ]
  },
  {
   "cell_type": "code",
   "execution_count": 7,
   "metadata": {},
   "outputs": [
    {
     "name": "stdout",
     "output_type": "stream",
     "text": [
      "Матрица A:\n",
      "[[0 3 0]\n",
      " [3 0 0]\n",
      " [0 0 3]]\n",
      "Собственные значения:\n",
      "[ 3. -3.  3.]\n"
     ]
    }
   ],
   "source": [
    "a = np.array([[0, 3, 0], [3, 0, 0], [0, 0, 3]])\n",
    "w, v = np.linalg.eig(a)\n",
    "\n",
    "print(f'Матрица A:\\n{a}')\n",
    "print(f'Собственные значения:\\n{w}')"
   ]
  }
 ],
 "metadata": {
  "kernelspec": {
   "display_name": "Python 3",
   "language": "python",
   "name": "python3"
  },
  "language_info": {
   "codemirror_mode": {
    "name": "ipython",
    "version": 3
   },
   "file_extension": ".py",
   "mimetype": "text/x-python",
   "name": "python",
   "nbconvert_exporter": "python",
   "pygments_lexer": "ipython3",
   "version": "3.9.1"
  }
 },
 "nbformat": 4,
 "nbformat_minor": 4
}
