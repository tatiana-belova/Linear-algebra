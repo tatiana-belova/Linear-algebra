{
 "cells": [
  {
   "cell_type": "markdown",
   "metadata": {},
   "source": [
    "## Урок 2. Матрицы и матричные операции. Часть 1."
   ]
  },
  {
   "cell_type": "markdown",
   "metadata": {},
   "source": [
    "__1. Установить, какие произведения матриц $AB$ и $BA$ определены, и найти размерности полученных матриц:__ \n",
    "\n",
    "а) $A$ — матрица $4\\times 2$, $B$ — матрица $4\\times 2$;\n",
    "\n",
    "Произведения матриц $AB$ и $BA$ не определены, так как в обоих случаях количество столбцов первой матрицы __не__ равно количеству строк второй матрицы.\n",
    "    \n",
    "б) $A$ — матрица $2\\times 5$, $B$ — матрица $5\\times 3$;\n",
    "\n",
    "$A \\times B$ - определена, $2 \\times 5\\ \\cdot \\ 5 \\times 3 ,\\ 5 == 5 \\rightarrow$ получается матрица размерности $ 2 \\times 3$\n",
    "\n",
    "$BA$ не определена, так как количество столбцов первой матрицы __не__ равно количеству строк второй матрицы.\n",
    "\n",
    "в) $A$ — матрица $8\\times 3$, $B$ — матрица $3\\times 8$;\n",
    "\n",
    "Произведения матриц $AB$ и $BA$ определены, размерность $AB$ - $8 \\times 8$, а $BA$ - $3 \\times 3$\n",
    "\n",
    "г) $A$ — квадратная матрица $4\\times 4$, $B$ — квадратная матрица $4\\times 4$.\n",
    "\n",
    "Произведения матриц $AB$ и $BA$ определены, размерность как $AB$, так и $BA$ - $4 \\times 4$"
   ]
  },
  {
   "cell_type": "markdown",
   "metadata": {},
   "source": [
    "__2. Найти сумму и произведение матриц $A=\\begin{pmatrix}\n",
    "1 & -2\\\\ \n",
    "3 & 0\n",
    "\\end{pmatrix}$ и $B=\\begin{pmatrix}\n",
    "4 & -1\\\\ \n",
    "0 & 5\n",
    "\\end{pmatrix}.$__\n",
    "\n",
    "Сумма: $A+B = \\begin{pmatrix} 1 & -2\\\\ 3 & 0 \\end{pmatrix} + \\begin{pmatrix} 4 & -1\\\\ 0 & 5 \\end{pmatrix} = \\begin{pmatrix} 1+4 & -2-1\\\\ 3+0 & 0+5 \\end{pmatrix} = \\begin{pmatrix} 5 & -3\\\\ 3 & 5 \\end{pmatrix}$\n",
    "\n",
    "Так как операция сложения матриц обладает теми же свойствами, что и операция сложения вещественных чисел, то $A+B = B+A \\rightarrow B+A = \\begin{pmatrix} 5 & -3\\\\ 3 & 5 \\end{pmatrix}$\n",
    "\n",
    "Произведение $A \\cdot B = \\begin{pmatrix} 1 & -2\\\\ 3 & 0 \\end{pmatrix} \\cdot \\begin{pmatrix} 4 & -1\\\\ 0 & 5 \\end{pmatrix} = \\begin{pmatrix} 1\\cdot4+ (-2)\\cdot0 & 1\\cdot(-1)+(-2)\\cdot5\\\\ 3\\cdot4+0\\cdot0 & 3\\cdot(-1)+0\\cdot5 \\end{pmatrix} = \\begin{pmatrix} 4 & -11\\\\ 12 & -3 \\end{pmatrix}$"
   ]
  },
  {
   "cell_type": "markdown",
   "metadata": {},
   "source": [
    "Произведение $B \\cdot A = \\begin{pmatrix} 4 & -1\\\\ 0 & 5 \\end{pmatrix} \\cdot \\begin{pmatrix} 1 & -2\\\\ 3 & 0 \\end{pmatrix} = \\begin{pmatrix} 4\\cdot1 + (-1)\\cdot3 & 4\\cdot(-2)+(-1)\\cdot0\\\\ 0\\cdot1 + 5\\cdot3 & 0\\cdot(-2) + 5\\cdot0 \\end{pmatrix} = \\begin{pmatrix} 1 & -8\\\\ 15 & 0 \\end{pmatrix}$"
   ]
  },
  {
   "cell_type": "markdown",
   "metadata": {},
   "source": [
    "__3. Из закономерностей сложения и умножения матриц на число можно сделать вывод, что матрицы одного размера образуют линейное пространство. Вычислить линейную комбинацию $3A-2B+4C$ для матриц $A=\\begin{pmatrix}\n",
    "1 & 7\\\\ \n",
    "3 & -6\n",
    "\\end{pmatrix}$, $B=\\begin{pmatrix}\n",
    "0 & 5\\\\ \n",
    "2 & -1\n",
    "\\end{pmatrix}$, $C=\\begin{pmatrix}\n",
    "2 & -4\\\\ \n",
    "1 & 1\n",
    "\\end{pmatrix}.$__ \n",
    "\n",
    "$3A-2B+4C = 3\\begin{pmatrix} 1 & 7\\\\ 3 & -6 \\end{pmatrix} - 2\\begin{pmatrix} 0 & 5\\\\ 2 & -1 \\end{pmatrix} + 4\\begin{pmatrix} 2 & -4\\\\ 1 & 1 \\end{pmatrix} = \\begin{pmatrix} 3\\cdot1 - 2\\cdot0 +4\\cdot2 & 3\\cdot7-2\\cdot5+4\\cdot(-4)\\\\ 3\\cdot3-2\\cdot2+4\\cdot1 & 3\\cdot(-6)-2\\cdot(-1) +4\\cdot1 \\end{pmatrix} = \\begin{pmatrix} 11 & -5\\\\ 9 & -12 \\end{pmatrix}$"
   ]
  },
  {
   "cell_type": "markdown",
   "metadata": {},
   "source": [
    "__4. Дана матрица $A=\\begin{pmatrix}\n",
    "4 & 1\\\\ \n",
    "5 & -2\\\\ \n",
    "2 & 3\n",
    "\\end{pmatrix}$.\n",
    "Вычислить $AA^{T}$ и $A^{T}A$.__\n",
    "\n",
    "$A^T = \\begin{pmatrix} 4 & 5 & 2\\\\ 1 & -2 & 3 \\end{pmatrix}$\n",
    "\n",
    "$AA^{T} = \\begin{pmatrix}4 & 1\\\\ 5 & -2\\\\ 2 & 3 \\end{pmatrix} \\cdot \\begin{pmatrix} 4 & 5 & 2\\\\ 1 & -2 & 3 \\end{pmatrix} = \\begin{pmatrix} 4\\cdot4+1\\cdot1 & 4\\cdot5+1\\cdot(-2) & 4\\cdot2+1\\cdot3\\\\ 5\\cdot4+(-2)\\cdot1 & 5\\cdot5+(-2)\\cdot(-2) & 5\\cdot2+(-2)\\cdot3\\\\ 2\\cdot4+3\\cdot1 & 2\\cdot5+3\\cdot(-2) & 2\\cdot2+3\\cdot3 \\end{pmatrix} = \\begin{pmatrix} 15 & 18 & 11\\\\ 18 & 21 & 4\\\\ 11 & 4 & 13 \\end{pmatrix} $\n",
    "\n",
    "$A^{T}A = \\begin{pmatrix} 4 & 5 & 2\\\\ 1 & -2 & 3 \\end{pmatrix} \\cdot \\begin{pmatrix}4 & 1\\\\ 5 & -2\\\\ 2 & 3 \\end{pmatrix} = \\begin{pmatrix} 4\\cdot4+5\\cdot5 + 2\\cdot2 & 4\\cdot1+5\\cdot(-2) + 2\\cdot3 \\\\ 1\\cdot4+(-2)\\cdot5 + 3\\cdot2 & 1\\cdot1+(-2)\\cdot(-2) + 3\\cdot3 \\end{pmatrix} = \\begin{pmatrix} 45 & 0 \\\\ 0 & 14 \\\\ \\end{pmatrix} $"
   ]
  },
  {
   "cell_type": "markdown",
   "metadata": {},
   "source": [
    "## Матрицы и матричные операции. Часть 2"
   ]
  },
  {
   "cell_type": "markdown",
   "metadata": {},
   "source": [
    "__1. Вычислить определитель:__\n",
    "\n",
    "a) $\\begin{vmatrix}sinx & -cosx\\\\ cosx & sinx \\end{vmatrix} = sinx\\cdot sinx - (-cosx)\\cdot cosx = 1$\n",
    "\n",
    "б) $\\begin{vmatrix} 4 & 2 & 3\\\\0 & 5 & 1\\\\ 0 & 0 & 9 \\end{vmatrix} = 4 \\cdot \\begin{vmatrix} 5 & 1\\\\ 0 & 9 \\end{vmatrix} - 0 \\cdot \\begin{vmatrix} 2 & 3\\\\ 0 & 9 \\end{vmatrix} + 0 \\cdot \\begin {vmatrix} 2 & 3\\\\ 5 & 1 \\end{vmatrix} = 4 \\cdot (5\\cdot9 - 1\\cdot0) = 180$ \n",
    "    \n",
    "в) $\\begin{vmatrix} 1 & 2 & 3\\\\ 4 & 5 & 6\\\\ 7 & 8 & 9 \\end{vmatrix} = 1\\cdot5\\cdot9 +7\\cdot2\\cdot6+4\\cdot8\\cdot3 - 3\\cdot5\\cdot7 - 2\\cdot4\\cdot9 - 1\\cdot6\\cdot8 = 45+ 84+96 - 105 - 72 - 48 = 0$"
   ]
  },
  {
   "cell_type": "markdown",
   "metadata": {},
   "source": [
    "__2. Определитель матрицы $A$ равен $4$. Найти:__\n",
    "\n",
    "а) $det(A^{2}) = det(A)\\cdot det(A) = 4 \\cdot 4 = 16$;\n",
    "    \n",
    "б) $det(A^{T}) = det(A) = 4$;\n",
    "    \n",
    "в) $det(2A)$\n",
    "\n",
    "Если размер матрицы $n \\times n$, то $det(2A) = 2^n \\times det(A)$"
   ]
  },
  {
   "cell_type": "markdown",
   "metadata": {},
   "source": [
    "__3.  Доказать, что матрица вырожденная.__\n",
    "\n",
    "$\\begin{pmatrix}\n",
    "-2 & 7 & -3\\\\ \n",
    "4 & -14 & 6\\\\ \n",
    "-3 & 7 & 13\n",
    "\\end{pmatrix}$\n",
    "\n",
    "Вычислим определитель: $\\begin{vmatrix} -2 & 7 & -3\\\\ 4 & -14 & 6\\\\ -3 & 7 & 13 \\end{vmatrix} = (-2)\\cdot(-14)\\cdot13 +4\\cdot7\\cdot(-3) + 7\\cdot6\\cdot(-3) - (-3)\\cdot(-14)\\cdot(-3) - (-2)\\cdot6\\cdot7 - 4\\cdot7\\cdot13 = 364 - 84 - 126 + 126 + 84 - 364 = 0$\n",
    "\n",
    "Матрица вырожденная, так как определитель равен нулю."
   ]
  },
  {
   "cell_type": "markdown",
   "metadata": {},
   "source": [
    "__4. Найти ранг матрицы:__\n",
    "\n",
    "   а) $\\begin{pmatrix}\n",
    "1 & 2 & 3\\\\ \n",
    "1 & 1 & 1\\\\ \n",
    "2 & 3 & 4\n",
    "\\end{pmatrix};$\n",
    "\n",
    "3 строку можно убрать, так как она – сумма первых двух\n",
    "\n",
    "$\\begin{pmatrix}\n",
    "1 & 2 & 3\\\\ \n",
    "1 & 1 & 1\n",
    "\\end{pmatrix};$\n",
    "\n",
    "Из 1 строки вычитаем 2 строку и меняем их меставми\n",
    "\n",
    "$\\begin{pmatrix}\n",
    "1 & 1 & 1\\\\ \n",
    "0 & 1 & 2\n",
    "\\end{pmatrix};$\n",
    "\n",
    "Ранг матрицы = 2\n",
    "\n",
    "   б) $\\begin{pmatrix}\n",
    "0 & 0 & 2 & 1\\\\ \n",
    "0 & 0 & 2 & 2\\\\ \n",
    "0 & 0 & 4 & 3\\\\ \n",
    "2 & 3 & 5 & 6\n",
    "\\end{pmatrix}.$\n",
    "\n",
    "Умножаем 2 строку на 0,5\n",
    "\n",
    "$\\begin{pmatrix}\n",
    "0 & 0 & 2 & 1\\\\ \n",
    "0 & 0 & 1 & 1\\\\ \n",
    "0 & 0 & 4 & 3\\\\ \n",
    "2 & 3 & 5 & 6\n",
    "\\end{pmatrix}.$\n",
    "\n",
    "Вычитаем из 3 строки две 2-ых строки и одну первую.\n",
    "\n",
    "$\\begin{pmatrix}\n",
    "0 & 0 & 2 & 1\\\\ \n",
    "0 & 0 & 1 & 1\\\\ \n",
    "0 & 0 & 0 & 0\\\\ \n",
    "2 & 3 & 5 & 6\n",
    "\\end{pmatrix}.$\n",
    "\n",
    "Убираем нулевую строку\n",
    "\n",
    "$\\begin{pmatrix}\n",
    "0 & 0 & 2 & 1\\\\ \n",
    "0 & 0 & 1 & 1\\\\ \n",
    "2 & 3 & 5 & 6\n",
    "\\end{pmatrix}.$\n",
    "\n",
    "Ранг матрицы = 3\n"
   ]
  }
 ],
 "metadata": {
  "kernelspec": {
   "display_name": "Python 3",
   "language": "python",
   "name": "python3"
  },
  "language_info": {
   "codemirror_mode": {
    "name": "ipython",
    "version": 3
   },
   "file_extension": ".py",
   "mimetype": "text/x-python",
   "name": "python",
   "nbconvert_exporter": "python",
   "pygments_lexer": "ipython3",
   "version": "3.9.1"
  }
 },
 "nbformat": 4,
 "nbformat_minor": 4
}
