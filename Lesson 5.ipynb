{
 "cells": [
  {
   "cell_type": "markdown",
   "metadata": {
    "id": "88Mbd_tGCzso"
   },
   "source": [
    "## Урок 5. Сингулярное разложение матриц"
   ]
  },
  {
   "cell_type": "markdown",
   "metadata": {
    "id": "aoo5c_Q0Czsp"
   },
   "source": [
    "__1. Найти с помощью NumPy SVD для матрицы__ $\\begin{pmatrix}\n",
    "1 & 2 & 0\\\\ \n",
    "0 & 0 & 5\\\\ \n",
    "3 & -4 & 2\\\\ \n",
    "1 & 6 & 5\\\\ \n",
    "0 & 1 & 0\n",
    "\\end{pmatrix}$"
   ]
  },
  {
   "cell_type": "code",
   "execution_count": 27,
   "metadata": {
    "colab": {
     "base_uri": "https://localhost:8080/"
    },
    "id": "aQ6_x5aTgkUo",
    "outputId": "d914749b-d112-4ca3-e100-ef4fe2f2f5e5"
   },
   "outputs": [],
   "source": [
    "import numpy as np\n",
    "from numpy.linalg import norm\n",
    "np.set_printoptions(precision=2, suppress=True)"
   ]
  },
  {
   "cell_type": "code",
   "execution_count": 28,
   "metadata": {},
   "outputs": [
    {
     "name": "stdout",
     "output_type": "stream",
     "text": [
      "Матрица A:\n",
      "[[ 1  2  0]\n",
      " [ 0  0  5]\n",
      " [ 3 -4  2]\n",
      " [ 1  6  5]\n",
      " [ 0  1  0]]\n"
     ]
    }
   ],
   "source": [
    "A = np.array([[1, 2, 0], [0, 0, 5], [3, -4, 2], [1, 6, 5], [0, 1, 0]])\n",
    "print(f'Матрица A:\\n{A}')"
   ]
  },
  {
   "cell_type": "code",
   "execution_count": 29,
   "metadata": {},
   "outputs": [],
   "source": [
    "U, s, W = np.linalg.svd(A)\n",
    "\n",
    "V = W.T # Транспонируем матрицу W\n",
    "\n",
    "# s - список диагональных элементов, его нужно привести к виду диагональной матрицы для наглядности\n",
    "D = np.zeros_like(A, dtype=float)\n",
    "D[np.diag_indices(min(A.shape))] = s"
   ]
  },
  {
   "cell_type": "code",
   "execution_count": 30,
   "metadata": {},
   "outputs": [
    {
     "name": "stdout",
     "output_type": "stream",
     "text": [
      "Матрица D:\n",
      "[[8.82 0.   0.  ]\n",
      " [0.   6.14 0.  ]\n",
      " [0.   0.   2.53]\n",
      " [0.   0.   0.  ]\n",
      " [0.   0.   0.  ]]\n"
     ]
    }
   ],
   "source": [
    "print(f'Матрица D:\\n{D}')"
   ]
  },
  {
   "cell_type": "code",
   "execution_count": 31,
   "metadata": {},
   "outputs": [
    {
     "name": "stdout",
     "output_type": "stream",
     "text": [
      "Матрица U:\n",
      "[[ 0.17  0.16 -0.53 -0.8  -0.16]\n",
      " [ 0.39 -0.53  0.61 -0.43  0.03]\n",
      " [-0.14 -0.82 -0.52  0.14  0.07]\n",
      " [ 0.89  0.06 -0.25  0.38 -0.06]\n",
      " [ 0.08  0.11 -0.08 -0.11  0.98]]\n"
     ]
    }
   ],
   "source": [
    "print(f'Матрица U:\\n{U}')"
   ]
  },
  {
   "cell_type": "code",
   "execution_count": 32,
   "metadata": {},
   "outputs": [
    {
     "name": "stdout",
     "output_type": "stream",
     "text": [
      "Матрица V:\n",
      "[[ 0.07 -0.37 -0.93]\n",
      " [ 0.72  0.67 -0.21]\n",
      " [ 0.69 -0.65  0.31]]\n"
     ]
    }
   ],
   "source": [
    "print(f'Матрица V:\\n{V}')"
   ]
  },
  {
   "cell_type": "code",
   "execution_count": 33,
   "metadata": {},
   "outputs": [
    {
     "name": "stdout",
     "output_type": "stream",
     "text": [
      "Проверка:\n",
      "[[ 1.  2.  0.]\n",
      " [ 0. -0.  5.]\n",
      " [ 3. -4.  2.]\n",
      " [ 1.  6.  5.]\n",
      " [-0.  1. -0.]]\n"
     ]
    }
   ],
   "source": [
    "print(f'Проверка:\\n{np.dot(np.dot(U, D), V.T)}')"
   ]
  },
  {
   "cell_type": "markdown",
   "metadata": {
    "id": "rUAm0duj9rt7"
   },
   "source": [
    "__2. Для матрицы из предыдущего задания найти:__"
   ]
  },
  {
   "cell_type": "code",
   "execution_count": 34,
   "metadata": {
    "colab": {
     "base_uri": "https://localhost:8080/"
    },
    "id": "ixBjD-B99rky",
    "outputId": "bf7976e3-49df-4a0c-a024-f8652515d05b"
   },
   "outputs": [
    {
     "name": "stdout",
     "output_type": "stream",
     "text": [
      "Самое большое собственное значение: \n",
      "8.824868854820444\n",
      "\n",
      "l1 норма вектора D:\n",
      "8.824868854820444\n"
     ]
    }
   ],
   "source": [
    "# а) евклидову норму;\n",
    "print(f'Самое большое собственное значение: \\n{s[0]}\\n')\n",
    "print(f'l1 норма вектора D:\\n{norm(D, ord=2)}')\n"
   ]
  },
  {
   "cell_type": "code",
   "execution_count": 35,
   "metadata": {
    "colab": {
     "base_uri": "https://localhost:8080/"
    },
    "id": "iUtbtYWq9rf9",
    "outputId": "70832c27-c086-4572-a8f9-e61f3ceb6526"
   },
   "outputs": [
    {
     "data": {
      "text/plain": [
       "11.045361017187263"
      ]
     },
     "execution_count": 35,
     "metadata": {},
     "output_type": "execute_result"
    }
   ],
   "source": [
    "# б) норму Фробениуса\n",
    "np.sqrt(np.sum(D**2))"
   ]
  }
 ],
 "metadata": {
  "colab": {
   "collapsed_sections": [],
   "name": "Лин_Алг_ДЗ_5.ipynb",
   "provenance": []
  },
  "kernelspec": {
   "display_name": "Python 3",
   "language": "python",
   "name": "python3"
  },
  "language_info": {
   "codemirror_mode": {
    "name": "ipython",
    "version": 3
   },
   "file_extension": ".py",
   "mimetype": "text/x-python",
   "name": "python",
   "nbconvert_exporter": "python",
   "pygments_lexer": "ipython3",
   "version": "3.9.1"
  }
 },
 "nbformat": 4,
 "nbformat_minor": 1
}
